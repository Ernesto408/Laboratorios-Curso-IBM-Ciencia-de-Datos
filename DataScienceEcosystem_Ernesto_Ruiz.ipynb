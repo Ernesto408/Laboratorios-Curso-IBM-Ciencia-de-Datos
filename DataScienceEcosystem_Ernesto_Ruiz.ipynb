{
 "cells": [
  {
   "cell_type": "markdown",
   "id": "9c5e64dc-2bc7-4640-9b71-877eda7b6100",
   "metadata": {},
   "source": [
    "<center>\n",
    "    <img src=\"https://cf-courses-data.s3.us.cloud-object-storage.appdomain.cloud/IBMDeveloperSkillsNetwork-DS0105EN-SkillsNetwork/labs/Module2/images/SN_web_lightmode.png\" width=\"300\" alt=\"cognitiveclass.ai logo\">\n",
    "</center>\n"
   ]
  },
  {
   "cell_type": "markdown",
   "metadata": {},
   "source": [
    "# Data Science Tools and Ecosystem"
   ]
  },
  {
   "cell_type": "markdown",
   "metadata": {},
   "source": [
    "En este cuaderno, se resumen las herramientas y ecosistemas de ciencia de datos."
   ]
  },
  {
   "cell_type": "markdown",
   "metadata": {},
   "source": [
    "**Objetivos:**\n",
    "+ Crear Markdown de Listado Ordenado Indicando Lenguajes Usados por Científicos de Datos.\n",
    "+ Crear Markdown de Listado Ordenado Indicando Bibliotecas Comunes Usadas por Científicos de Datos.\n",
    "+ Crear Markdown de Tabla Indicando Herramientas Comunes Usadas Por Científicos de Datos.\n",
    "+ Crear Celdas de Código Mostrando Operaciones Básicas en Python."
   ]
  },
  {
   "cell_type": "markdown",
   "metadata": {},
   "source": [
    "Algunos de los lenguajes más usados por los científicos de datos son:\n",
    "1. Python.\n",
    "2. R.\n",
    "3. SQL.\n",
    "4. Julia."
   ]
  },
  {
   "cell_type": "markdown",
   "metadata": {},
   "source": [
    "Algunas de las bibliotecas comúnmente utilizadas por los científicos de datos incluyen:\n",
    "1. Pandas.\n",
    "2. Numpy.\n",
    "3. Matplotlib.\n",
    "4. Seaborn."
   ]
  },
  {
   "cell_type": "markdown",
   "metadata": {},
   "source": [
    "Algunas Herramientas de Ciencia de Datos Usadas por Científicos de Datos Son:\n",
    "\n",
    "| Herramientas de Ciencia de Datos |\n",
    "| -------------------------------- |\n",
    "| Python |\n",
    "| R |\n",
    "| SQL |\n",
    "| GitHub |\n",
    "| Tensor Flow |"
   ]
  },
  {
   "cell_type": "markdown",
   "metadata": {},
   "source": [
    "### A continuación se presentan algunos ejemplos de evaluación de expresiones aritméticas en Python."
   ]
  },
  {
   "cell_type": "code",
   "execution_count": 1,
   "id": "e7ba372f-335a-4836-943b-f9cf0fa309b0",
   "metadata": {},
   "outputs": [
    {
     "data": {
      "text/plain": [
       "17"
      ]
     },
     "execution_count": 1,
     "metadata": {},
     "output_type": "execute_result"
    }
   ],
   "source": [
    "#Esta es una expresión aritmética simple para multiplicar y luego sumar enteros.\n",
    "(3*4)+5"
   ]
  },
  {
   "cell_type": "code",
   "execution_count": 2,
   "metadata": {},
   "outputs": [
    {
     "data": {
      "text/plain": [
       "3.3333333333333335"
      ]
     },
     "execution_count": 2,
     "metadata": {},
     "output_type": "execute_result"
    }
   ],
   "source": [
    "# Esto convertirá 200 minutos a horas dividiendo por 60.\n",
    "200/60"
   ]
  },
  {
   "cell_type": "markdown",
   "metadata": {},
   "source": [
    "## Autor:\n",
    "Ernesto Alfonso Ruiz Laya"
   ]
  },
  {
   "cell_type": "markdown",
   "id": "b5f467ed-efe7-45ac-a08b-b2d48c26ba81",
   "metadata": {},
   "source": [
    "Copyright ©2024 IBM Corporation. All rights reserved.\n"
   ]
  }
 ],
 "metadata": {
  "kernelspec": {
   "display_name": "Python 3",
   "language": "python",
   "name": "python3"
  },
  "language_info": {
   "codemirror_mode": {
    "name": "ipython",
    "version": 3
   },
   "file_extension": ".py",
   "mimetype": "text/x-python",
   "name": "python",
   "nbconvert_exporter": "python",
   "pygments_lexer": "ipython3",
   "version": "3.11.7"
  },
  "prev_pub_hash": "9e1985db9844176462bd1d5863048c9f3d17404bbc6a648be9084b0c42b29347"
 },
 "nbformat": 4,
 "nbformat_minor": 4
}
